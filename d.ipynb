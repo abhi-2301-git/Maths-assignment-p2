{
 "cells": [
  {
   "cell_type": "markdown",
   "metadata": {},
   "source": [
    "Check the implications of increasing the sample size when estimating the mean of a\n",
    "variable. How does it affect the confidence interval width?"
   ]
  },
  {
   "cell_type": "code",
   "execution_count": 32,
   "metadata": {},
   "outputs": [],
   "source": [
    "import numpy as np\n",
    "import pandas as pd"
   ]
  },
  {
   "cell_type": "code",
   "execution_count": 19,
   "metadata": {},
   "outputs": [],
   "source": [
    "df = pd.read_csv(r'E:\\Code\\Maths assignment\\tested.csv')\n"
   ]
  },
  {
   "cell_type": "code",
   "execution_count": 20,
   "metadata": {},
   "outputs": [],
   "source": [
    "# grouping data by first class tickets\n",
    "newdf = df[df['Pclass'] == 1][['Fare']]\n",
    "# Since very few(1) have paid a fare above 300, it's best to remove that value as it could drastically affect the mean.\n",
    "newdf = newdf[newdf['Fare'] < 300]"
   ]
  },
  {
   "cell_type": "code",
   "execution_count": null,
   "metadata": {},
   "outputs": [],
   "source": [
    "# Sampling \n",
    "samp1 = newdf['Fare'].sample(n=10, random_state=42)\n",
    "samp2 = newdf['Fare'].sample(n=40, random_state=42)\n",
    "samp3 = newdf['Fare'].sample(n=80, random_state=42)"
   ]
  },
  {
   "cell_type": "code",
   "execution_count": null,
   "metadata": {},
   "outputs": [],
   "source": [
    "# calculating sample mean\n",
    "Smean1=samp1.mean()\n",
    "Smean2=samp2.mean()\n",
    "Smean3=samp3.mean()"
   ]
  },
  {
   "cell_type": "code",
   "execution_count": null,
   "metadata": {},
   "outputs": [
    {
     "name": "stdout",
     "output_type": "stream",
     "text": [
      "96.90834\n",
      "91.882395\n",
      "90.6479175\n",
      "Population mean- 90.33643962264152\n"
     ]
    }
   ],
   "source": [
    "print(Smean1)\n",
    "print(Smean2)\n",
    "print(Smean3)\n"
   ]
  },
  {
   "cell_type": "code",
   "execution_count": null,
   "metadata": {},
   "outputs": [],
   "source": [
    "sigma = np.std(newdf['Fare'])\n",
    "Zval = 1.96"
   ]
  },
  {
   "cell_type": "code",
   "execution_count": null,
   "metadata": {},
   "outputs": [
    {
     "name": "stdout",
     "output_type": "stream",
     "text": [
      "Confidence Interval for n=10: (51.08818943695371, 142.72849056304628)\n"
     ]
    }
   ],
   "source": [
    "# CI For n = 10\n",
    "SE1 = sigma / np.sqrt(10)\n",
    "CI1_lower = Smean1 - Zval * SE1\n",
    "CI1_upper = Smean1 + Zval * SE1\n",
    "print(f\"Confidence Interval for n=10: ({CI1_lower}, {CI1_upper})\")"
   ]
  },
  {
   "cell_type": "code",
   "execution_count": null,
   "metadata": {},
   "outputs": [
    {
     "name": "stdout",
     "output_type": "stream",
     "text": [
      "Confidence Interval for n=40: (68.97231971847685, 114.79247028152315)\n"
     ]
    }
   ],
   "source": [
    "# Ci for n = 40\n",
    "SE2 = sigma / np.sqrt(40)\n",
    "CI2_lower = Smean2 - Zval * SE2\n",
    "CI2_upper = Smean2 + Zval * SE2\n",
    "print(f\"Confidence Interval for n=40: ({CI2_lower}, {CI2_upper})\")"
   ]
  },
  {
   "cell_type": "code",
   "execution_count": 38,
   "metadata": {},
   "outputs": [
    {
     "name": "stdout",
     "output_type": "stream",
     "text": [
      "Confidence Interval for n=80: (74.44804791094069, 106.84778708905932)\n"
     ]
    }
   ],
   "source": [
    "# CI for n = 80\n",
    "SE3 = sigma / np.sqrt(80)\n",
    "CI3_lower = Smean3 - Zval * SE3\n",
    "CI3_upper = Smean3 + Zval * SE3\n",
    "print(f\"Confidence Interval for n=80: ({CI3_lower}, {CI3_upper})\")"
   ]
  },
  {
   "cell_type": "markdown",
   "metadata": {},
   "source": [
    "As the sample size increases, the confidence interval becomes narrower.\n",
    "\n",
    "For n=10, the interval is (51.09, 142.73), showing a wide range.\n",
    "For n=40, the interval narrows to (68.97, 114.79).\n",
    "For n=80, the interval further tightens to (74.45, 106.85).\n",
    "\n",
    "This indicates that larger samples provide more precise estimates of the population mean, reducing uncertainty in our estimation."
   ]
  },
  {
   "cell_type": "markdown",
   "metadata": {},
   "source": []
  }
 ],
 "metadata": {
  "kernelspec": {
   "display_name": "Python 3",
   "language": "python",
   "name": "python3"
  },
  "language_info": {
   "codemirror_mode": {
    "name": "ipython",
    "version": 3
   },
   "file_extension": ".py",
   "mimetype": "text/x-python",
   "name": "python",
   "nbconvert_exporter": "python",
   "pygments_lexer": "ipython3",
   "version": "3.12.9"
  }
 },
 "nbformat": 4,
 "nbformat_minor": 2
}
