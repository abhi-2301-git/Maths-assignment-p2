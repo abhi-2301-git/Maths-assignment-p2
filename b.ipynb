{
 "cells": [
  {
   "cell_type": "markdown",
   "metadata": {},
   "source": [
    "Construct and interpret a 95% confidence interval for the mean of a numerical variable.\n",
    "What does the interval suggest about the population mean?"
   ]
  },
  {
   "cell_type": "code",
   "execution_count": 1,
   "metadata": {},
   "outputs": [],
   "source": [
    "import numpy as np\n",
    "import pandas as pd"
   ]
  },
  {
   "cell_type": "code",
   "execution_count": 2,
   "metadata": {},
   "outputs": [],
   "source": [
    "df = pd.read_csv(r'E:\\Code\\Maths assignment\\tested.csv')\n",
    "# grouping data by first class tickets\n",
    "newdf = df[df['Pclass'] == 1][['Fare']]\n",
    "# Since very few(1) have paid a fare above 300, it's best to remove that value as it could drastically affect the mean.\n",
    "newdf = newdf[newdf['Fare'] < 300]"
   ]
  },
  {
   "cell_type": "code",
   "execution_count": 4,
   "metadata": {},
   "outputs": [],
   "source": [
    "sigma = np.std(newdf['Fare'])\n",
    "xSample = newdf['Fare'].sample(n=25, random_state=42)\n",
    "xBar=np.mean(xSample)\n",
    "Zval = 1.96"
   ]
  },
  {
   "cell_type": "code",
   "execution_count": 5,
   "metadata": {},
   "outputs": [],
   "source": [
    "SE = sigma/np.sqrt(25)"
   ]
  },
  {
   "cell_type": "code",
   "execution_count": 6,
   "metadata": {},
   "outputs": [],
   "source": [
    "CIlower = xBar - Zval * SE\n",
    "CIupper = xBar + Zval * SE"
   ]
  },
  {
   "cell_type": "code",
   "execution_count": 7,
   "metadata": {},
   "outputs": [
    {
     "name": "stdout",
     "output_type": "stream",
     "text": [
      "(60.47245629778543,118.43087170221456)\n"
     ]
    }
   ],
   "source": [
    "print(f\"({CIlower},{CIupper})\")"
   ]
  },
  {
   "cell_type": "markdown",
   "metadata": {},
   "source": [
    "The 95% confidence interval for the mean is (60.48, 118.44). This suggests that we are 95% confident that the true population mean falls within this range. If we were to take multiple samples and compute intervals in the same way, approximately 95% of them would contain the true mean."
   ]
  }
 ],
 "metadata": {
  "kernelspec": {
   "display_name": "Python 3",
   "language": "python",
   "name": "python3"
  },
  "language_info": {
   "codemirror_mode": {
    "name": "ipython",
    "version": 3
   },
   "file_extension": ".py",
   "mimetype": "text/x-python",
   "name": "python",
   "nbconvert_exporter": "python",
   "pygments_lexer": "ipython3",
   "version": "3.12.9"
  }
 },
 "nbformat": 4,
 "nbformat_minor": 2
}
