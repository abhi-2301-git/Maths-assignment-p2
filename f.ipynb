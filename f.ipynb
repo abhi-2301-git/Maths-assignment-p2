{
 "cells": [
  {
   "cell_type": "markdown",
   "metadata": {},
   "source": [
    "Perform a Chi-square goodness-of-fit test for a categorical variable. Interpret whether the\n",
    "observed distribution aligns with an expected distribution."
   ]
  },
  {
   "cell_type": "code",
   "execution_count": 126,
   "metadata": {},
   "outputs": [],
   "source": [
    "import numpy as np\n",
    "import pandas as pd"
   ]
  },
  {
   "cell_type": "code",
   "execution_count": 127,
   "metadata": {},
   "outputs": [],
   "source": [
    "df = pd.read_csv(r'E:\\Code\\Maths assignment\\tested.csv')"
   ]
  },
  {
   "cell_type": "code",
   "execution_count": 128,
   "metadata": {},
   "outputs": [],
   "source": [
    "newdf = df[['Survived', 'Embarked']]"
   ]
  },
  {
   "cell_type": "code",
   "execution_count": null,
   "metadata": {},
   "outputs": [],
   "source": [
    "newdf = newdf.groupby(['Embarked', 'Survived']).size().unstack().reset_index()\n",
    "newdf.columns.name = None"
   ]
  },
  {
   "cell_type": "markdown",
   "metadata": {},
   "source": [
    "Example: If historical records suggest 60% embarked from S, 25% from C, and 15% from Q, the expected count would be:"
   ]
  },
  {
   "cell_type": "code",
   "execution_count": 132,
   "metadata": {},
   "outputs": [
    {
     "name": "stdout",
     "output_type": "stream",
     "text": [
      "Chi-square Statistic: 5.977671451355663\n",
      "P-value: 0.05034601919131072\n"
     ]
    }
   ],
   "source": [
    "from scipy.stats import chisquare\n",
    "\n",
    "# Observed frequencies\n",
    "observed = newdf[[0, 1]].sum(axis=1).values\n",
    "\n",
    "# Expected frequencies based on historical proportions\n",
    "total = observed.sum()\n",
    "expected = total * np.array([0.25, 0.15, 0.60])  # Proportions for C, Q, S\n",
    "\n",
    "# Perform the Chi-square goodness-of-fit test\n",
    "chi2_stat, p_value = chisquare(f_obs=observed, f_exp=expected)\n",
    "\n",
    "print(f\"Chi-square Statistic: {chi2_stat}\")\n",
    "print(f\"P-value: {p_value}\")"
   ]
  },
  {
   "cell_type": "markdown",
   "metadata": {},
   "source": [
    "The p-value for the Chi-square goodness-of-fit test is 0.0503, which is slightly above the commonly used significance level of 0.05. This means we fail to reject the null hypothesis. There is not enough evidence to conclude that the observed distribution of passengers across Embarked locations (S, C, Q) significantly differs from the historical distribution (60%, 25%, 15%). Thus, the observed pattern is reasonably consistent with the expected one."
   ]
  },
  {
   "cell_type": "markdown",
   "metadata": {},
   "source": []
  }
 ],
 "metadata": {
  "kernelspec": {
   "display_name": "Python 3",
   "language": "python",
   "name": "python3"
  },
  "language_info": {
   "codemirror_mode": {
    "name": "ipython",
    "version": 3
   },
   "file_extension": ".py",
   "mimetype": "text/x-python",
   "name": "python",
   "nbconvert_exporter": "python",
   "pygments_lexer": "ipython3",
   "version": "3.12.9"
  }
 },
 "nbformat": 4,
 "nbformat_minor": 2
}
